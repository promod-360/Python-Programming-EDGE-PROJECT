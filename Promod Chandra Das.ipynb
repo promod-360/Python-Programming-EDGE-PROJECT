{
  "nbformat": 4,
  "nbformat_minor": 0,
  "metadata": {
    "colab": {
      "provenance": []
    },
    "kernelspec": {
      "name": "python3",
      "display_name": "Python 3"
    },
    "language_info": {
      "name": "python"
    }
  },
  "cells": [
    {
      "cell_type": "code",
      "execution_count": null,
      "metadata": {
        "id": "6NVNBoyT3bRs"
      },
      "outputs": [],
      "source": [
        "import pandas as pd\n",
        "\n",
        "# Load the dataset\n",
        "df = pd.read_csv('employees_large.csv')\n",
        "\n",
        "# Compute the average salary for each department\n",
        "average_salaries = df.groupby('Department')['Salary'].mean()\n",
        "\n",
        "# Identify the department with the highest average salary\n",
        "highest_avg_salary_dept = average_salaries.idxmax()\n",
        "highest_avg_salary = average_salaries.max()\n",
        "\n",
        "# Print the results\n",
        "print(\"Average Salaries by Department:\")\n",
        "print(average_salaries)\n",
        "print(f\"\\nDepartment with the highest average salary: {highest_avg_salary_dept} (${highest_avg_salary:.2f})\")"
      ]
    },
    {
      "cell_type": "code",
      "source": [],
      "metadata": {
        "id": "kLZ1LV8X4Ree"
      },
      "execution_count": null,
      "outputs": []
    },
    {
      "cell_type": "code",
      "source": [
        "import pandas as pd\n",
        "\n",
        "# Load the dataset\n",
        "df = pd.read_csv('sales_large.csv')\n",
        "\n",
        "# Compute the total sales for each product in each region\n",
        "total_sales = df.groupby(['Product', 'Region'])['Sales'].sum().reset_index()\n",
        "\n",
        "# Identify the product with the highest total sales across all regions\n",
        "highest_sales_product = total_sales.groupby('Product')['Sales'].sum().idxmax()\n",
        "highest_sales_value = total_sales.groupby('Product')['Sales'].sum().max()\n",
        "\n",
        "# Print the results\n",
        "print(\"Total Sales by Product and Region:\")\n",
        "print(total_sales)\n",
        "print(f\"\\nProduct with the highest total sales across all regions: {highest_sales_product} (${highest_sales_value})\")\n",
        "\n"
      ],
      "metadata": {
        "id": "O3tTVg2A3tDr"
      },
      "execution_count": null,
      "outputs": []
    },
    {
      "cell_type": "code",
      "source": [
        "import numpy as np\n",
        "\n",
        "# Define matrices A and B\n",
        "A = np.array([[1, 2], [3, 4]])\n",
        "B = np.array([[5, 6], [7, 8]])\n",
        "\n",
        "# 1. Element-wise sum\n",
        "elementwise_sum = A + B\n",
        "\n",
        "# 2. Element-wise product\n",
        "elementwise_product = A * B\n",
        "\n",
        "# 3. Dot product of A and B transpose\n",
        "dot_product = np.dot(A, B.T)\n",
        "\n",
        "# 4. Determinant of A\n",
        "determinant_A = np.linalg.det(A)\n",
        "\n",
        "# Print the results\n",
        "print(\"Element-wise sum (A + B):\")\n",
        "print(elementwise_sum)\n",
        "print(\"\\nElement-wise product (A * B):\")\n",
        "print(elementwise_product)\n",
        "print(\"\\nDot product (A . B^T):\")\n",
        "print(dot_product)\n",
        "print(\"\\nDeterminant of A:\")\n",
        "print(determinant_A)\n",
        "\n",
        "\n"
      ],
      "metadata": {
        "id": "-DP2A2lo3wjs"
      },
      "execution_count": null,
      "outputs": []
    },
    {
      "cell_type": "code",
      "source": [
        "import numpy as np\n",
        "\n",
        "# Generate a random dataset with 10,000 values\n",
        "data = np.random.rand(10000)\n",
        "\n",
        "# 1. Compute mean, median, and standard deviation\n",
        "mean_value = np.mean(data)\n",
        "median_value = np.median(data)\n",
        "std_dev = np.std(data)\n",
        "\n",
        "# 2. Find the minimum and maximum values\n",
        "min_value = np.min(data)\n",
        "max_value = np.max(data)\n",
        "\n",
        "# 3. Count how many values are greater than the mean\n",
        "count_above_mean = np.sum(data > mean_value)\n",
        "\n",
        "# 4. Normalize the dataset using min-max scaling\n",
        "normalized_data = (data - min_value) / (max_value - min_value)\n",
        "\n",
        "# Print the results\n",
        "print(f\"Mean: {mean_value}\")\n",
        "print(f\"Median: {median_value}\")\n",
        "print(f\"Standard Deviation: {std_dev}\")\n",
        "print(f\"Minimum Value: {min_value}\")\n",
        "print(f\"Maximum Value: {max_value}\")\n",
        "print(f\"Number of values greater than the mean: {count_above_mean}\")\n",
        "print(\"\\nNormalized Data (first 10 values):\")\n",
        "print(normalized_data[:10])\n",
        "\n"
      ],
      "metadata": {
        "id": "FWNhR8R932TO"
      },
      "execution_count": null,
      "outputs": []
    },
    {
      "cell_type": "code",
      "source": [
        "# 1. List of temperatures above 32°C\n",
        "temperatures_above_32 = [temp for temp in temperatures if temp > 32]\n",
        "\n",
        "# 2. List of tuples with temperature and classification\n",
        "classification = [(\"Hot\" if temp > 35 else \"Warm\" if 30 <= temp <= 35 else \"Cool\", temp) for temp in temperatures]\n",
        "\n",
        "# 3. List of temperature differences from the monthly average\n",
        "monthly_avg = sum(temperatures) / len(temperatures)\n",
        "temperature_differences = [temp - monthly_avg for temp in temperatures]\n",
        "\n",
        "# Print the results\n",
        "print(\"Temperatures above 32°C:\")\n",
        "print(temperatures_above_32)\n",
        "print(\"\\nTemperature Classification:\")\n",
        "print(classification)\n",
        "print(\"\\nTemperature Differences from Monthly Average:\")\n",
        "print(temperature_differences)\n",
        "\n",
        "\n"
      ],
      "metadata": {
        "id": "2MnNhkqd38nw"
      },
      "execution_count": null,
      "outputs": []
    }
  ]
}