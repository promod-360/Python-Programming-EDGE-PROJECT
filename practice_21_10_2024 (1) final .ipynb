{
  "nbformat": 4,
  "nbformat_minor": 0,
  "metadata": {
    "colab": {
      "provenance": []
    },
    "kernelspec": {
      "name": "python3",
      "display_name": "Python 3"
    },
    "language_info": {
      "name": "python"
    }
  },
  "cells": [
    {
      "cell_type": "code",
      "execution_count": null,
      "metadata": {
        "colab": {
          "base_uri": "https://localhost:8080/"
        },
        "id": "nKcqwB3q2rrz",
        "outputId": "5a28ba93-3bef-4d1b-a53a-6ddaa0dd1cd5"
      },
      "outputs": [
        {
          "output_type": "stream",
          "name": "stdout",
          "text": [
            "Ente your name: promod chandra das\n",
            "Enter yout Dept: Computer science \n",
            "Concatenates= promod chandra dasComputer science \n"
          ]
        }
      ],
      "source": [
        "name =input (\"Ente your name: \")\n",
        "Dept = input(\"Enter yout Dept: \")\n",
        "\n",
        "print(\"Concatenates=\", name+Dept)"
      ]
    },
    {
      "cell_type": "code",
      "source": [
        "num1=int(input (\"Enter your frist number: \"))\n",
        "num2 = int(input (\"Enter your second number:\"))\n",
        "\n",
        "print(\"Sum=\", num1+num2)\n",
        "print(\"Difference= \", num1-num2)\n",
        "print(\"product =\", num1*num2 )\n",
        "print(\"Quotient=\", num1/num2)\n",
        "\n"
      ],
      "metadata": {
        "id": "sFSUanfG34yz",
        "colab": {
          "base_uri": "https://localhost:8080/"
        },
        "outputId": "46c21ff1-460a-468d-fc5f-a8c64237e7a2"
      },
      "execution_count": 3,
      "outputs": [
        {
          "output_type": "stream",
          "name": "stdout",
          "text": [
            "Enter your frist number: 5\n",
            "Enter your second number:6\n",
            "Sum= 11\n",
            "Difference=  -1\n",
            "product = 30\n",
            "Quotient= 0.8333333333333334\n"
          ]
        }
      ]
    },
    {
      "cell_type": "code",
      "source": [
        "length =int(input(\"Enter your first number: \"))\n",
        "width = int(input (\"Enter your second number:\"))\n",
        "\n",
        "print(\"area=\",length *width )"
      ],
      "metadata": {
        "colab": {
          "base_uri": "https://localhost:8080/"
        },
        "id": "4RFZaJL_6tET",
        "outputId": "76f7dd4c-5565-4e2b-df70-2ba4706d3630"
      },
      "execution_count": 4,
      "outputs": [
        {
          "output_type": "stream",
          "name": "stdout",
          "text": [
            "Enter your first number: 5\n",
            "Enter your second number:7\n",
            "area= 35\n"
          ]
        }
      ]
    },
    {
      "cell_type": "code",
      "source": [
        "user_input = input (\"Enter a string: \")\n",
        "string_length=len(user_input)\n",
        "print(\"The length of the string is:\",string_length)"
      ],
      "metadata": {
        "colab": {
          "base_uri": "https://localhost:8080/"
        },
        "id": "BANzC5e_8F2L",
        "outputId": "d84b4261-f299-4d6a-fd0f-e115894396f7"
      },
      "execution_count": 5,
      "outputs": [
        {
          "output_type": "stream",
          "name": "stdout",
          "text": [
            "Enter a string: promod\n",
            "The length of the string is: 6\n"
          ]
        }
      ]
    },
    {
      "cell_type": "code",
      "source": [
        "numbers =[10,20,30,40,50]\n",
        "\n",
        "print(\"Second number:\",numbers[1])\n",
        "print(\"Fourth number:\",numbers[3])"
      ],
      "metadata": {
        "colab": {
          "base_uri": "https://localhost:8080/"
        },
        "id": "O_LNPJEX9aAq",
        "outputId": "9e2a823b-188b-420d-d4f8-af05ae37dfa5"
      },
      "execution_count": 8,
      "outputs": [
        {
          "output_type": "stream",
          "name": "stdout",
          "text": [
            "Second number: 20\n",
            "Fourth number: 40\n"
          ]
        }
      ]
    },
    {
      "cell_type": "code",
      "source": [
        "while True:\n",
        "    name = input(\"Enter your name: \")\n",
        "    if name.lower() == 'exit':\n",
        "        print(\"Goodbye!\")\n",
        "        break\n",
        "    age = input(\"Enter your age: \")\n",
        "    print(f\"Hello, {name}! You are {age} years old.\")\n"
      ],
      "metadata": {
        "colab": {
          "base_uri": "https://localhost:8080/"
        },
        "id": "445wHAdq-Sex",
        "outputId": "d239c92d-d9bf-4aaa-c36f-ecb398570e3b"
      },
      "execution_count": null,
      "outputs": [
        {
          "output_type": "stream",
          "name": "stdout",
          "text": [
            "Enter your name: promod\n",
            "Enter your age: 22\n",
            "Hello, promod! You are 22 years old.\n"
          ]
        }
      ]
    },
    {
      "cell_type": "code",
      "source": [
        " numbers = [12, 45, 7, 34, 22]\n",
        "\n",
        "print(f\"List of numbers: {numbers}\")\n",
        "print(f\"Minimum: {min(numbers)}\")\n",
        "print(f\"Maximum: {max(numbers)}\")\n",
        "print(f\"Sum: {sum(numbers)}\")\n",
        "\n"
      ],
      "metadata": {
        "colab": {
          "base_uri": "https://localhost:8080/"
        },
        "id": "HVrEAa_a_Erg",
        "outputId": "b742ad9a-2781-41b9-ad84-72f876c8b497"
      },
      "execution_count": 29,
      "outputs": [
        {
          "output_type": "stream",
          "name": "stdout",
          "text": [
            "List of numbers: [12, 45, 7, 34, 22]\n",
            "Minimum: 7\n",
            "Maximum: 45\n",
            "Sum: 120\n"
          ]
        }
      ]
    }
  ]
}